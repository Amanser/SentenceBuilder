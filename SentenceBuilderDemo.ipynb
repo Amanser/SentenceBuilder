{
 "cells": [
  {
   "cell_type": "code",
   "execution_count": 1,
   "metadata": {},
   "outputs": [],
   "source": [
    "import pyspark\n",
    "from pyspark.sql import *\n",
    "from pyspark.sql.types import StructType\n",
    "from pyspark.sql.types import StructField\n",
    "from pyspark.sql.types import StringType, IntegerType\n",
    "import re\n",
    "import random\n",
    "\n",
    "spark = SparkSession.builder.config(conf=pyspark.SparkConf()).getOrCreate()\n",
    "sc = spark.sparkContext \n",
    "\n"
   ]
  },
  {
   "cell_type": "code",
   "execution_count": 4,
   "metadata": {},
   "outputs": [
    {
     "name": "stdout",
     "output_type": "stream",
     "text": [
      "------------------------------------\n",
      "Noun count: 20602 Verb count: 6365\n",
      "Preposition count: 70 Adverb count: 1545\n"
     ]
    }
   ],
   "source": [
    "# Dataframe setup\n",
    "\n",
    "articleList = [\"the\", \"a\", \"an\"]\n",
    "\n",
    "preps = spark.read.format(\"csv\").option(\"header\", \"false\").load(\"Inputs/prepositions.csv\")\n",
    "preps = (preps.withColumnRenamed('_c0', 'Prepositions'))\n",
    "\n",
    "\n",
    "verbs = spark.read.format(\"csv\").option(\"header\", \"false\").load(\"Inputs/verbs3syl.csv\")\n",
    "verbs = (verbs.withColumnRenamed('_c0', '3_syl_verbs'))\n",
    "\n",
    "\n",
    "nouns = spark.read.format(\"csv\").option(\"header\", \"false\").load(\"Inputs/nouns3syl.csv\")\n",
    "nouns = (nouns.withColumnRenamed('_c0', '3_syl_nouns'))\n",
    "\n",
    "adverbs = spark.read.format(\"csv\").option(\"header\", \"false\").load(\"Inputs/advb3syl.csv\")\n",
    "adverbs = (adverbs.withColumnRenamed('_c0', 'Adverbs'))\n",
    "\n",
    "\n",
    "print (\"------------------------------------\")\n",
    "print (f\"Noun count: {nouns.count()} Verb count: {verbs.count()}\")\n",
    "print (f\"Preposition count: {preps.count()} Adverb count: {adverbs.count()}\")"
   ]
  },
  {
   "cell_type": "code",
   "execution_count": 2,
   "metadata": {},
   "outputs": [
    {
     "name": "stdout",
     "output_type": "stream",
     "text": [
      "------------------------------------\n",
      "Noun count: 90959 Verb count: 30618\n",
      "Preposition count: 70 Adverb count: 6251\n"
     ]
    }
   ],
   "source": [
    "#Setup using all verbs, nouns, and adverbs\n",
    "\n",
    "articleList = [\"the\", \"a\", \"an\"]\n",
    "\n",
    "preps = spark.read.format(\"csv\").option(\"header\", \"false\").load(\"Inputs/prepositions.csv\")\n",
    "preps = (preps.withColumnRenamed('_c0', 'Prepositions'))\n",
    "\n",
    "\n",
    "allVerbs = spark.read.format(\"csv\").option(\"header\", \"false\").load(\"Inputs/allVerbs.csv\")\n",
    "allVerbs = (allVerbs.withColumnRenamed('_c0', 'Verbs'))\n",
    "\n",
    "\n",
    "allNouns = spark.read.format(\"csv\").option(\"header\", \"false\").load(\"Inputs/allNouns.csv\")\n",
    "allNouns = (allNouns.withColumnRenamed('_c0', 'Nouns'))\n",
    "\n",
    "allAdverbs = spark.read.format(\"csv\").option(\"header\", \"false\").load(\"Inputs/allAdverbs.csv\")\n",
    "allAdverbs = (allAdverbs.withColumnRenamed('_c0', 'Adverbs'))\n",
    "\n",
    "allAdjs = spark.read.format(\"csv\").option(\"header\", \"false\").load(\"Inputs/adj3syl.csv\")\n",
    "allAdjs = (allAdjs.withColumnRenamed('_c0', 'Adjectives'))\n",
    "\n",
    "print (\"------------------------------------\")\n",
    "print (f\"Noun count: {allNouns.count()} Verb count: {allVerbs.count()}\")\n",
    "print (f\"Preposition count: {preps.count()} Adverb count: {allAdverbs.count()}\")"
   ]
  },
  {
   "cell_type": "code",
   "execution_count": 33,
   "metadata": {},
   "outputs": [
    {
     "data": {
      "text/plain": [
       "'preparing'"
      ]
     },
     "execution_count": 33,
     "metadata": {},
     "output_type": "execute_result"
    }
   ],
   "source": [
    "# Test to select a random verb\n",
    "\n",
    "# randVerb = verbs.select(\"3_syl_verbs\").rdd.takeSample(False, 1)\n",
    "# verb_val = [x['3_syl_verbs'] for x in randVerb][0]\n",
    "\n",
    "# verb_val"
   ]
  },
  {
   "attachments": {
    "image.png": {
     "image/png": "[encoded data removed]"
    }
   },
   "cell_type": "markdown",
   "metadata": {},
   "source": [
    "![image.png](attachment:image.png)"
   ]
  },
  {
   "cell_type": "code",
   "execution_count": 6,
   "metadata": {},
   "outputs": [
    {
     "data": {
      "text/plain": [
       "'A minuends anti a saluki utilized vauntingly'"
      ]
     },
     "execution_count": 6,
     "metadata": {},
     "output_type": "execute_result"
    }
   ],
   "source": [
    "art_1 = random.choice(articleList)\n",
    "art_2 = random.choice(articleList)\n",
    "\n",
    "randNoun1 = nouns.select(\"3_syl_nouns\").rdd.takeSample(False, 1)\n",
    "noun_val_1 = [x['3_syl_nouns'] for x in randNoun1][0]\n",
    "\n",
    "randNoun2 = nouns.select(\"3_syl_nouns\").rdd.takeSample(False, 1)\n",
    "noun_val_2 = [x['3_syl_nouns'] for x in randNoun2][0]\n",
    "\n",
    "randVerb = verbs.select(\"3_syl_verbs\").rdd.takeSample(False, 1)\n",
    "verb_val = [x['3_syl_verbs'] for x in randVerb][0]\n",
    "\n",
    "randPrep = preps.select(\"Prepositions\").rdd.takeSample(False, 1)\n",
    "prep_val = [x['Prepositions'] for x in randPrep][0]\n",
    "\n",
    "randAdvb = adverbs.select(\"Adverbs\").rdd.takeSample(False, 1)\n",
    "advb_val = [x['Adverbs'] for x in randAdvb][0]\n",
    "\n",
    "randoSentence = (f\"{art_1.title()} {noun_val_1} {prep_val} {art_2} {noun_val_2} {verb_val} {advb_val}\")\n",
    "\n",
    "randoSentence"
   ]
  },
  {
   "cell_type": "code",
   "execution_count": 4,
   "metadata": {},
   "outputs": [
    {
     "data": {
      "text/plain": [
       "'The saneness considering resemblant halibuts voting the electrotype'"
      ]
     },
     "execution_count": 4,
     "metadata": {},
     "output_type": "execute_result"
    }
   ],
   "source": [
    "# Sentence construction with all possible choices\n",
    "\n",
    "art_1 = random.choice(articleList)\n",
    "art_2 = random.choice(articleList)\n",
    "\n",
    "randNoun1 = allNouns.select(\"Nouns\").rdd.takeSample(False, 1)\n",
    "noun_val_1 = [x['Nouns'] for x in randNoun1][0]\n",
    "\n",
    "randNoun2 = allNouns.select(\"Nouns\").rdd.takeSample(False, 1)\n",
    "noun_val_2 = [x['Nouns'] for x in randNoun2][0]\n",
    "\n",
    "randNoun3 = allNouns.select(\"Nouns\").rdd.takeSample(False, 1)\n",
    "noun_val_3 = [x['Nouns'] for x in randNoun3][0]\n",
    "\n",
    "randVerb = allVerbs.select(\"Verbs\").rdd.takeSample(False, 1)\n",
    "verb_val = [x['Verbs'] for x in randVerb][0]\n",
    "\n",
    "randPrep = preps.select(\"Prepositions\").rdd.takeSample(False, 1)\n",
    "prep_val = [x['Prepositions'] for x in randPrep][0]\n",
    "\n",
    "# randAdvb = allAdverbs.select(\"Adverbs\").rdd.takeSample(False, 1)\n",
    "# advb_val = [x['Adverbs'] for x in randAdvb][0]\n",
    "\n",
    "randAdj = allAdjs.select(\"Adjectives\").rdd.takeSample(False, 1)\n",
    "adj_val = [x['Adjectives'] for x in randAdj][0]\n",
    "\n",
    "# randoSentence = (f\"{art_1.title()} {noun_val_1} {prep_val} {art_2} {noun_val_2} {verb_val} {advb_val}\")\n",
    "\n",
    "\n",
    "# Article Noun Preposition Adjective Noun Verb Article Noun\n",
    "\n",
    "randoSentence = (f\"{art_1.title()} {noun_val_1} {prep_val} {adj_val} {noun_val_2} {verb_val} {art_2} {noun_val_3}\")\n",
    "\n",
    "randoSentence"
   ]
  },
  {
   "cell_type": "code",
   "execution_count": 5,
   "metadata": {},
   "outputs": [
    {
     "name": "stdout",
     "output_type": "stream",
     "text": [
      "Readability Analyzer\n",
      "---------------------------------------------------------------------\n",
      "Flesch Reading Ease: 0\n",
      "Flesch-Kincaid Grade Level: 17.03\n",
      "Dale–Chall score: 13.9\n",
      "Gunning Fog Scale Level: 18.2\n"
     ]
    }
   ],
   "source": [
    "from selenium import webdriver\n",
    "from selenium.webdriver.common.keys import Keys\n",
    "from selenium.webdriver.support.ui import Select, WebDriverWait\n",
    "# from selenium.webdriver.support import expected_conditions as EC\n",
    "# from selenium.webdriver.common.by import By\n",
    "\n",
    "import time\n",
    "\n",
    "# blah = webdriver.ChromeOptions()\n",
    "# blah.add_argument('headless')\n",
    "\n",
    "# Initialize Chromedriver from the Documents folder\n",
    "browser = webdriver.Chrome(\"C:\\\\Users\\\\abm0406\\\\Documents\\\\chromedriver.exe\")\n",
    "\n",
    "browser.get(\"https://datayze.com/readability-analyzer.php\")\n",
    "\n",
    "# Print the title of the web page to ensure Chromedriver is on the correct page\n",
    "print (browser.title)\n",
    "\n",
    "# testSentence = \"It was the best of times, it was the worst of times.\"\n",
    "\n",
    "# Add the random sentence into the analyzer field and generate results\n",
    "if browser.find_element_by_id(\"rich_txt\"):\n",
    "\n",
    "#     print (\"Text field found\")\n",
    "\n",
    "    browser.find_element_by_id(\"rich_txt\").send_keys(randoSentence)\n",
    "\n",
    "\n",
    "browser.implicitly_wait(1)\n",
    "# WebDriverWait(browser, 10).until(EC.element_to_be_clickable((By.ID, \"analyzeButton\"))).click()\n",
    "\n",
    "browser.find_element_by_id(\"analyzeButton\").click()\n",
    "\n",
    "browser.implicitly_wait(3)\n",
    "\n",
    "\n",
    "# Grab statistics from the webpage\n",
    "KFvalue = browser.find_element_by_id(\"kincaid\")\n",
    "DCvalue = browser.find_element_by_id(\"dalechall\")\n",
    "FREvalue = browser.find_element_by_id(\"flesch\")\n",
    "Fogvalue = browser.find_element_by_id(\"fog\")\n",
    "\n",
    "print(\"---------------------------------------------------------------------\")\n",
    "print (f\"Flesch Reading Ease: {FREvalue.get_attribute('value')}\")\n",
    "print (f\"Flesch-Kincaid Grade Level: {KFvalue.get_attribute('value')}\")\n",
    "print (f\"Dale–Chall score: {DCvalue.get_attribute('value')}\")\n",
    "print (f\"Gunning Fog Scale Level: {Fogvalue.get_attribute('value')}\")"
   ]
  },
  {
   "cell_type": "code",
   "execution_count": null,
   "metadata": {},
   "outputs": [],
   "source": []
  },
  {
   "cell_type": "code",
   "execution_count": null,
   "metadata": {},
   "outputs": [],
   "source": []
  }
 ],
 "metadata": {
  "kernelspec": {
   "display_name": "Python 3",
   "language": "python",
   "name": "python3"
  },
  "language_info": {
   "codemirror_mode": {
    "name": "ipython",
    "version": 3
   },
   "file_extension": ".py",
   "mimetype": "text/x-python",
   "name": "python",
   "nbconvert_exporter": "python",
   "pygments_lexer": "ipython3",
   "version": "3.7.3"
  }
 },
 "nbformat": 4,
 "nbformat_minor": 2
}
